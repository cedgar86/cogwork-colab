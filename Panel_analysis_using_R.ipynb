{
  "nbformat": 4,
  "nbformat_minor": 0,
  "metadata": {
    "colab": {
      "name": "Panel analysis using R.ipynb",
      "provenance": [],
      "collapsed_sections": [],
      "authorship_tag": "ABX9TyO8TI7tyjpZCTU+4iOT1nZv",
      "include_colab_link": true
    },
    "kernelspec": {
      "name": "ir",
      "display_name": "R"
    },
    "language_info": {
      "name": "R"
    }
  },
  "cells": [
    {
      "cell_type": "markdown",
      "metadata": {
        "id": "view-in-github",
        "colab_type": "text"
      },
      "source": [
        "<a href=\"https://colab.research.google.com/github/cedgar86/cogwork-colab/blob/main/Panel_analysis_using_R.ipynb\" target=\"_parent\"><img src=\"https://colab.research.google.com/assets/colab-badge.svg\" alt=\"Open In Colab\"/></a>"
      ]
    },
    {
      "cell_type": "markdown",
      "metadata": {
        "id": "_LxpRSn9KXQc"
      },
      "source": [
        "# Panel analyses using R in Colab (work in progress).\n",
        "\n",
        "For my next trick, I'm going to use R in the Colab environment to perform a Panel Analyses on some longitudinal data.\n",
        "\n",
        "To do this, I want to use the PLM package, from the R programming language. Before getting started my first task was to figure out how to run R in Colab, which it turns out can be done in one of two different ways:\n",
        "\n",
        "1) Entering the following web address into my browser's address bar to initialise a new notebook in the R language:\n",
        "\n",
        "colab.to/r\n",
        "\n",
        "Or in the event I wanted to use R and Python together (which I don't, for now)\n",
        "\n",
        "2) Load the rpy2 extension by running the following code in a cell:\n",
        "\n",
        "%load_ext rpy2.ipython\n",
        "\n",
        "Then, whenever you want to use R, you begin the cell with %%R\n",
        "\n",
        "If you want to use R for just one line, begin that line with %R\n",
        "\n",
        "For this project, I'll be sticking with method 1 to keep things simple.\n",
        "\n",
        "Now that R is loaded, the next is to install and load the required packages, to conduct a basic panel analysis in R we can use the PLM package - 'Linear Models for Panel Data':\n"
      ]
    },
    {
      "cell_type": "code",
      "metadata": {
        "colab": {
          "base_uri": "https://localhost:8080/"
        },
        "id": "LKCmBLQevUSJ",
        "outputId": "d93bc031-03c1-4f0f-f010-ae79d28b7754"
      },
      "source": [
        "install.packages('plm')\n",
        "\n"
      ],
      "execution_count": 1,
      "outputs": [
        {
          "output_type": "stream",
          "name": "stderr",
          "text": [
            "Installing package into ‘/usr/local/lib/R/site-library’\n",
            "(as ‘lib’ is unspecified)\n",
            "\n",
            "also installing the dependencies ‘miscTools’, ‘rbibutils’, ‘bdsmatrix’, ‘zoo’, ‘sandwich’, ‘lmtest’, ‘maxLik’, ‘Rdpack’, ‘Formula’\n",
            "\n",
            "\n"
          ]
        }
      ]
    },
    {
      "cell_type": "code",
      "metadata": {
        "id": "CjDNeg0NVk66"
      },
      "source": [
        "\n",
        "library(plm)"
      ],
      "execution_count": 2,
      "outputs": []
    },
    {
      "cell_type": "markdown",
      "metadata": {
        "id": "yGxws1ngr2hA"
      },
      "source": [
        "Next up, I'm going to load in the 'wage' dataset, which is ideal for the purposes of the current demonstration. The data within allows us to analyse changes in watches both between individuals, and across time.\n",
        "\n",
        "We can use both the 'summary' and 'head' commands to preview the data."
      ]
    },
    {
      "cell_type": "code",
      "metadata": {
        "colab": {
          "base_uri": "https://localhost:8080/",
          "height": 746
        },
        "id": "ERVfhiu_LGTJ",
        "outputId": "b8a279e8-3b35-4f74-8ca4-3f56a4a1e4bb"
      },
      "source": [
        "\n",
        "wage <- read.csv(\"https://raw.githubusercontent.com/sdevine188/econometrics_academy/master/panel_data/panel_wage.csv\")\n",
        "attach(wage)\n",
        "\n",
        "summary(wage)\n"
      ],
      "execution_count": 3,
      "outputs": [
        {
          "output_type": "display_data",
          "data": {
            "text/plain": [
              "      exp             wks             occ              ind        \n",
              " Min.   : 1.00   Min.   : 5.00   Min.   :0.0000   Min.   :0.0000  \n",
              " 1st Qu.:11.00   1st Qu.:46.00   1st Qu.:0.0000   1st Qu.:0.0000  \n",
              " Median :18.00   Median :48.00   Median :1.0000   Median :0.0000  \n",
              " Mean   :19.85   Mean   :46.81   Mean   :0.5112   Mean   :0.3954  \n",
              " 3rd Qu.:29.00   3rd Qu.:50.00   3rd Qu.:1.0000   3rd Qu.:1.0000  \n",
              " Max.   :51.00   Max.   :52.00   Max.   :1.0000   Max.   :1.0000  \n",
              "     south             smsa              ms              fem        \n",
              " Min.   :0.0000   Min.   :0.0000   Min.   :0.0000   Min.   :0.0000  \n",
              " 1st Qu.:0.0000   1st Qu.:0.0000   1st Qu.:1.0000   1st Qu.:0.0000  \n",
              " Median :0.0000   Median :1.0000   Median :1.0000   Median :0.0000  \n",
              " Mean   :0.2903   Mean   :0.6538   Mean   :0.8144   Mean   :0.1126  \n",
              " 3rd Qu.:1.0000   3rd Qu.:1.0000   3rd Qu.:1.0000   3rd Qu.:0.0000  \n",
              " Max.   :1.0000   Max.   :1.0000   Max.   :1.0000   Max.   :1.0000  \n",
              "     union             ed             blk              lwage      \n",
              " Min.   :0.000   Min.   : 4.00   Min.   :0.00000   Min.   :4.605  \n",
              " 1st Qu.:0.000   1st Qu.:12.00   1st Qu.:0.00000   1st Qu.:6.395  \n",
              " Median :0.000   Median :12.00   Median :0.00000   Median :6.685  \n",
              " Mean   :0.364   Mean   :12.85   Mean   :0.07227   Mean   :6.676  \n",
              " 3rd Qu.:1.000   3rd Qu.:16.00   3rd Qu.:0.00000   3rd Qu.:6.953  \n",
              " Max.   :1.000   Max.   :17.00   Max.   :1.00000   Max.   :8.537  \n",
              "       id            t         tdum1            tdum2            tdum3       \n",
              " Min.   :  1   Min.   :1   Min.   :0.0000   Min.   :0.0000   Min.   :0.0000  \n",
              " 1st Qu.:149   1st Qu.:2   1st Qu.:0.0000   1st Qu.:0.0000   1st Qu.:0.0000  \n",
              " Median :298   Median :4   Median :0.0000   Median :0.0000   Median :0.0000  \n",
              " Mean   :298   Mean   :4   Mean   :0.1429   Mean   :0.1429   Mean   :0.1429  \n",
              " 3rd Qu.:447   3rd Qu.:6   3rd Qu.:0.0000   3rd Qu.:0.0000   3rd Qu.:0.0000  \n",
              " Max.   :595   Max.   :7   Max.   :1.0000   Max.   :1.0000   Max.   :1.0000  \n",
              "     tdum4            tdum5            tdum6            tdum7       \n",
              " Min.   :0.0000   Min.   :0.0000   Min.   :0.0000   Min.   :0.0000  \n",
              " 1st Qu.:0.0000   1st Qu.:0.0000   1st Qu.:0.0000   1st Qu.:0.0000  \n",
              " Median :0.0000   Median :0.0000   Median :0.0000   Median :0.0000  \n",
              " Mean   :0.1429   Mean   :0.1429   Mean   :0.1429   Mean   :0.1429  \n",
              " 3rd Qu.:0.0000   3rd Qu.:0.0000   3rd Qu.:0.0000   3rd Qu.:0.0000  \n",
              " Max.   :1.0000   Max.   :1.0000   Max.   :1.0000   Max.   :1.0000  \n",
              "      exp2       \n",
              " Min.   :   1.0  \n",
              " 1st Qu.: 121.0  \n",
              " Median : 324.0  \n",
              " Mean   : 514.4  \n",
              " 3rd Qu.: 841.0  \n",
              " Max.   :2601.0  "
            ]
          },
          "metadata": {}
        }
      ]
    },
    {
      "cell_type": "code",
      "metadata": {
        "colab": {
          "base_uri": "https://localhost:8080/",
          "height": 412
        },
        "id": "67lHFWKW8WXh",
        "outputId": "2cf130a6-f7a4-4b51-d6af-b44eb541341e"
      },
      "source": [
        "head(wage, 10)"
      ],
      "execution_count": 4,
      "outputs": [
        {
          "output_type": "display_data",
          "data": {
            "text/plain": [
              "   exp wks occ ind south smsa ms fem union ed ⋯ id t tdum1 tdum2 tdum3 tdum4\n",
              "1   3  32  0   0   1     0    1  0   0      9 ⋯ 1  1 1     0     0     0    \n",
              "2   4  43  0   0   1     0    1  0   0      9 ⋯ 1  2 0     1     0     0    \n",
              "3   5  40  0   0   1     0    1  0   0      9 ⋯ 1  3 0     0     1     0    \n",
              "4   6  39  0   0   1     0    1  0   0      9 ⋯ 1  4 0     0     0     1    \n",
              "5   7  42  0   1   1     0    1  0   0      9 ⋯ 1  5 0     0     0     0    \n",
              "6   8  35  0   1   1     0    1  0   0      9 ⋯ 1  6 0     0     0     0    \n",
              "7   9  32  0   1   1     0    1  0   0      9 ⋯ 1  7 0     0     0     0    \n",
              "8  30  34  1   0   0     0    1  0   0     11 ⋯ 2  1 1     0     0     0    \n",
              "9  31  27  1   0   0     0    1  0   0     11 ⋯ 2  2 0     1     0     0    \n",
              "10 32  33  1   1   0     0    1  0   1     11 ⋯ 2  3 0     0     1     0    \n",
              "   tdum5 tdum6 tdum7 exp2\n",
              "1  0     0     0        9\n",
              "2  0     0     0       16\n",
              "3  0     0     0       25\n",
              "4  0     0     0       36\n",
              "5  1     0     0       49\n",
              "6  0     1     0       64\n",
              "7  0     0     1       81\n",
              "8  0     0     0      900\n",
              "9  0     0     0      961\n",
              "10 0     0     0     1024"
            ],
            "text/latex": "A data.frame: 10 × 22\n\\begin{tabular}{r|lllllllllllllllllllll}\n  & exp & wks & occ & ind & south & smsa & ms & fem & union & ed & ⋯ & id & t & tdum1 & tdum2 & tdum3 & tdum4 & tdum5 & tdum6 & tdum7 & exp2\\\\\n  & <int> & <int> & <int> & <int> & <int> & <int> & <int> & <int> & <int> & <int> & ⋯ & <int> & <int> & <int> & <int> & <int> & <int> & <int> & <int> & <int> & <int>\\\\\n\\hline\n\t1 &  3 & 32 & 0 & 0 & 1 & 0 & 1 & 0 & 0 &  9 & ⋯ & 1 & 1 & 1 & 0 & 0 & 0 & 0 & 0 & 0 &    9\\\\\n\t2 &  4 & 43 & 0 & 0 & 1 & 0 & 1 & 0 & 0 &  9 & ⋯ & 1 & 2 & 0 & 1 & 0 & 0 & 0 & 0 & 0 &   16\\\\\n\t3 &  5 & 40 & 0 & 0 & 1 & 0 & 1 & 0 & 0 &  9 & ⋯ & 1 & 3 & 0 & 0 & 1 & 0 & 0 & 0 & 0 &   25\\\\\n\t4 &  6 & 39 & 0 & 0 & 1 & 0 & 1 & 0 & 0 &  9 & ⋯ & 1 & 4 & 0 & 0 & 0 & 1 & 0 & 0 & 0 &   36\\\\\n\t5 &  7 & 42 & 0 & 1 & 1 & 0 & 1 & 0 & 0 &  9 & ⋯ & 1 & 5 & 0 & 0 & 0 & 0 & 1 & 0 & 0 &   49\\\\\n\t6 &  8 & 35 & 0 & 1 & 1 & 0 & 1 & 0 & 0 &  9 & ⋯ & 1 & 6 & 0 & 0 & 0 & 0 & 0 & 1 & 0 &   64\\\\\n\t7 &  9 & 32 & 0 & 1 & 1 & 0 & 1 & 0 & 0 &  9 & ⋯ & 1 & 7 & 0 & 0 & 0 & 0 & 0 & 0 & 1 &   81\\\\\n\t8 & 30 & 34 & 1 & 0 & 0 & 0 & 1 & 0 & 0 & 11 & ⋯ & 2 & 1 & 1 & 0 & 0 & 0 & 0 & 0 & 0 &  900\\\\\n\t9 & 31 & 27 & 1 & 0 & 0 & 0 & 1 & 0 & 0 & 11 & ⋯ & 2 & 2 & 0 & 1 & 0 & 0 & 0 & 0 & 0 &  961\\\\\n\t10 & 32 & 33 & 1 & 1 & 0 & 0 & 1 & 0 & 1 & 11 & ⋯ & 2 & 3 & 0 & 0 & 1 & 0 & 0 & 0 & 0 & 1024\\\\\n\\end{tabular}\n",
            "text/markdown": "\nA data.frame: 10 × 22\n\n| <!--/--> | exp &lt;int&gt; | wks &lt;int&gt; | occ &lt;int&gt; | ind &lt;int&gt; | south &lt;int&gt; | smsa &lt;int&gt; | ms &lt;int&gt; | fem &lt;int&gt; | union &lt;int&gt; | ed &lt;int&gt; | ⋯ ⋯ | id &lt;int&gt; | t &lt;int&gt; | tdum1 &lt;int&gt; | tdum2 &lt;int&gt; | tdum3 &lt;int&gt; | tdum4 &lt;int&gt; | tdum5 &lt;int&gt; | tdum6 &lt;int&gt; | tdum7 &lt;int&gt; | exp2 &lt;int&gt; |\n|---|---|---|---|---|---|---|---|---|---|---|---|---|---|---|---|---|---|---|---|---|---|\n| 1 |  3 | 32 | 0 | 0 | 1 | 0 | 1 | 0 | 0 |  9 | ⋯ | 1 | 1 | 1 | 0 | 0 | 0 | 0 | 0 | 0 |    9 |\n| 2 |  4 | 43 | 0 | 0 | 1 | 0 | 1 | 0 | 0 |  9 | ⋯ | 1 | 2 | 0 | 1 | 0 | 0 | 0 | 0 | 0 |   16 |\n| 3 |  5 | 40 | 0 | 0 | 1 | 0 | 1 | 0 | 0 |  9 | ⋯ | 1 | 3 | 0 | 0 | 1 | 0 | 0 | 0 | 0 |   25 |\n| 4 |  6 | 39 | 0 | 0 | 1 | 0 | 1 | 0 | 0 |  9 | ⋯ | 1 | 4 | 0 | 0 | 0 | 1 | 0 | 0 | 0 |   36 |\n| 5 |  7 | 42 | 0 | 1 | 1 | 0 | 1 | 0 | 0 |  9 | ⋯ | 1 | 5 | 0 | 0 | 0 | 0 | 1 | 0 | 0 |   49 |\n| 6 |  8 | 35 | 0 | 1 | 1 | 0 | 1 | 0 | 0 |  9 | ⋯ | 1 | 6 | 0 | 0 | 0 | 0 | 0 | 1 | 0 |   64 |\n| 7 |  9 | 32 | 0 | 1 | 1 | 0 | 1 | 0 | 0 |  9 | ⋯ | 1 | 7 | 0 | 0 | 0 | 0 | 0 | 0 | 1 |   81 |\n| 8 | 30 | 34 | 1 | 0 | 0 | 0 | 1 | 0 | 0 | 11 | ⋯ | 2 | 1 | 1 | 0 | 0 | 0 | 0 | 0 | 0 |  900 |\n| 9 | 31 | 27 | 1 | 0 | 0 | 0 | 1 | 0 | 0 | 11 | ⋯ | 2 | 2 | 0 | 1 | 0 | 0 | 0 | 0 | 0 |  961 |\n| 10 | 32 | 33 | 1 | 1 | 0 | 0 | 1 | 0 | 1 | 11 | ⋯ | 2 | 3 | 0 | 0 | 1 | 0 | 0 | 0 | 0 | 1024 |\n\n",
            "text/html": [
              "<table class=\"dataframe\">\n",
              "<caption>A data.frame: 10 × 22</caption>\n",
              "<thead>\n",
              "\t<tr><th></th><th scope=col>exp</th><th scope=col>wks</th><th scope=col>occ</th><th scope=col>ind</th><th scope=col>south</th><th scope=col>smsa</th><th scope=col>ms</th><th scope=col>fem</th><th scope=col>union</th><th scope=col>ed</th><th scope=col>⋯</th><th scope=col>id</th><th scope=col>t</th><th scope=col>tdum1</th><th scope=col>tdum2</th><th scope=col>tdum3</th><th scope=col>tdum4</th><th scope=col>tdum5</th><th scope=col>tdum6</th><th scope=col>tdum7</th><th scope=col>exp2</th></tr>\n",
              "\t<tr><th></th><th scope=col>&lt;int&gt;</th><th scope=col>&lt;int&gt;</th><th scope=col>&lt;int&gt;</th><th scope=col>&lt;int&gt;</th><th scope=col>&lt;int&gt;</th><th scope=col>&lt;int&gt;</th><th scope=col>&lt;int&gt;</th><th scope=col>&lt;int&gt;</th><th scope=col>&lt;int&gt;</th><th scope=col>&lt;int&gt;</th><th scope=col>⋯</th><th scope=col>&lt;int&gt;</th><th scope=col>&lt;int&gt;</th><th scope=col>&lt;int&gt;</th><th scope=col>&lt;int&gt;</th><th scope=col>&lt;int&gt;</th><th scope=col>&lt;int&gt;</th><th scope=col>&lt;int&gt;</th><th scope=col>&lt;int&gt;</th><th scope=col>&lt;int&gt;</th><th scope=col>&lt;int&gt;</th></tr>\n",
              "</thead>\n",
              "<tbody>\n",
              "\t<tr><th scope=row>1</th><td> 3</td><td>32</td><td>0</td><td>0</td><td>1</td><td>0</td><td>1</td><td>0</td><td>0</td><td> 9</td><td>⋯</td><td>1</td><td>1</td><td>1</td><td>0</td><td>0</td><td>0</td><td>0</td><td>0</td><td>0</td><td>   9</td></tr>\n",
              "\t<tr><th scope=row>2</th><td> 4</td><td>43</td><td>0</td><td>0</td><td>1</td><td>0</td><td>1</td><td>0</td><td>0</td><td> 9</td><td>⋯</td><td>1</td><td>2</td><td>0</td><td>1</td><td>0</td><td>0</td><td>0</td><td>0</td><td>0</td><td>  16</td></tr>\n",
              "\t<tr><th scope=row>3</th><td> 5</td><td>40</td><td>0</td><td>0</td><td>1</td><td>0</td><td>1</td><td>0</td><td>0</td><td> 9</td><td>⋯</td><td>1</td><td>3</td><td>0</td><td>0</td><td>1</td><td>0</td><td>0</td><td>0</td><td>0</td><td>  25</td></tr>\n",
              "\t<tr><th scope=row>4</th><td> 6</td><td>39</td><td>0</td><td>0</td><td>1</td><td>0</td><td>1</td><td>0</td><td>0</td><td> 9</td><td>⋯</td><td>1</td><td>4</td><td>0</td><td>0</td><td>0</td><td>1</td><td>0</td><td>0</td><td>0</td><td>  36</td></tr>\n",
              "\t<tr><th scope=row>5</th><td> 7</td><td>42</td><td>0</td><td>1</td><td>1</td><td>0</td><td>1</td><td>0</td><td>0</td><td> 9</td><td>⋯</td><td>1</td><td>5</td><td>0</td><td>0</td><td>0</td><td>0</td><td>1</td><td>0</td><td>0</td><td>  49</td></tr>\n",
              "\t<tr><th scope=row>6</th><td> 8</td><td>35</td><td>0</td><td>1</td><td>1</td><td>0</td><td>1</td><td>0</td><td>0</td><td> 9</td><td>⋯</td><td>1</td><td>6</td><td>0</td><td>0</td><td>0</td><td>0</td><td>0</td><td>1</td><td>0</td><td>  64</td></tr>\n",
              "\t<tr><th scope=row>7</th><td> 9</td><td>32</td><td>0</td><td>1</td><td>1</td><td>0</td><td>1</td><td>0</td><td>0</td><td> 9</td><td>⋯</td><td>1</td><td>7</td><td>0</td><td>0</td><td>0</td><td>0</td><td>0</td><td>0</td><td>1</td><td>  81</td></tr>\n",
              "\t<tr><th scope=row>8</th><td>30</td><td>34</td><td>1</td><td>0</td><td>0</td><td>0</td><td>1</td><td>0</td><td>0</td><td>11</td><td>⋯</td><td>2</td><td>1</td><td>1</td><td>0</td><td>0</td><td>0</td><td>0</td><td>0</td><td>0</td><td> 900</td></tr>\n",
              "\t<tr><th scope=row>9</th><td>31</td><td>27</td><td>1</td><td>0</td><td>0</td><td>0</td><td>1</td><td>0</td><td>0</td><td>11</td><td>⋯</td><td>2</td><td>2</td><td>0</td><td>1</td><td>0</td><td>0</td><td>0</td><td>0</td><td>0</td><td> 961</td></tr>\n",
              "\t<tr><th scope=row>10</th><td>32</td><td>33</td><td>1</td><td>1</td><td>0</td><td>0</td><td>1</td><td>0</td><td>1</td><td>11</td><td>⋯</td><td>2</td><td>3</td><td>0</td><td>0</td><td>1</td><td>0</td><td>0</td><td>0</td><td>0</td><td>1024</td></tr>\n",
              "</tbody>\n",
              "</table>\n"
            ]
          },
          "metadata": {}
        }
      ]
    },
    {
      "cell_type": "code",
      "metadata": {
        "id": "o_bs_2il52Fq"
      },
      "source": [
        ""
      ],
      "execution_count": null,
      "outputs": []
    },
    {
      "cell_type": "markdown",
      "metadata": {
        "id": "BWM0W9-isU76"
      },
      "source": [
        "The following code does three things; 1) asigns the dependent/outcome variable 'y' using the (log wage) lwage column from the wage dataframe; 2) asigns data from four columns of the wage dataframe, experience (exp), experience squared (exp2), weeks worked (wks), and education (ed), as independent/predictor variables; 3) use the 'pdata.frame' to designate the 'wage' data frame as panel data, and asign it to the 'pwage' dataframe - identifying both id and time (t) colums as observation identifier and time variables respectively."
      ]
    },
    {
      "cell_type": "code",
      "metadata": {
        "id": "fqCD7oPvIqiQ",
        "outputId": "2d4b5c45-6bd5-417a-c9e0-6f0e90f03a94",
        "colab": {
          "base_uri": "https://localhost:8080/",
          "height": 954
        }
      },
      "source": [
        "pwage <- pdata.frame(wage, index=c(\"id\",\"t\"))\n",
        "attach(pwage)\n",
        "\n",
        "y <- cbind(lwage)\n",
        "x <- cbind(exp, exp2, wks, ed)\n",
        "\n",
        "\n",
        "\n",
        "summary(pwage)"
      ],
      "execution_count": 10,
      "outputs": [
        {
          "output_type": "stream",
          "name": "stderr",
          "text": [
            "The following objects are masked from wage:\n",
            "\n",
            "    blk, ed, exp, exp2, fem, id, ind, lwage, ms, occ, smsa, south, t,\n",
            "    tdum1, tdum2, tdum3, tdum4, tdum5, tdum6, tdum7, union, wks\n",
            "\n",
            "\n"
          ]
        },
        {
          "output_type": "display_data",
          "data": {
            "text/plain": [
              "      exp             wks             occ              ind        \n",
              " Min.   : 1.00   Min.   : 5.00   Min.   :0.0000   Min.   :0.0000  \n",
              " 1st Qu.:11.00   1st Qu.:46.00   1st Qu.:0.0000   1st Qu.:0.0000  \n",
              " Median :18.00   Median :48.00   Median :1.0000   Median :0.0000  \n",
              " Mean   :19.85   Mean   :46.81   Mean   :0.5112   Mean   :0.3954  \n",
              " 3rd Qu.:29.00   3rd Qu.:50.00   3rd Qu.:1.0000   3rd Qu.:1.0000  \n",
              " Max.   :51.00   Max.   :52.00   Max.   :1.0000   Max.   :1.0000  \n",
              "                                                                  \n",
              "     south             smsa              ms              fem        \n",
              " Min.   :0.0000   Min.   :0.0000   Min.   :0.0000   Min.   :0.0000  \n",
              " 1st Qu.:0.0000   1st Qu.:0.0000   1st Qu.:1.0000   1st Qu.:0.0000  \n",
              " Median :0.0000   Median :1.0000   Median :1.0000   Median :0.0000  \n",
              " Mean   :0.2903   Mean   :0.6538   Mean   :0.8144   Mean   :0.1126  \n",
              " 3rd Qu.:1.0000   3rd Qu.:1.0000   3rd Qu.:1.0000   3rd Qu.:0.0000  \n",
              " Max.   :1.0000   Max.   :1.0000   Max.   :1.0000   Max.   :1.0000  \n",
              "                                                                    \n",
              "     union             ed             blk              lwage      \n",
              " Min.   :0.000   Min.   : 4.00   Min.   :0.00000   Min.   :4.605  \n",
              " 1st Qu.:0.000   1st Qu.:12.00   1st Qu.:0.00000   1st Qu.:6.395  \n",
              " Median :0.000   Median :12.00   Median :0.00000   Median :6.685  \n",
              " Mean   :0.364   Mean   :12.85   Mean   :0.07227   Mean   :6.676  \n",
              " 3rd Qu.:1.000   3rd Qu.:16.00   3rd Qu.:0.00000   3rd Qu.:6.953  \n",
              " Max.   :1.000   Max.   :17.00   Max.   :1.00000   Max.   :8.537  \n",
              "                                                                  \n",
              "       id       t           tdum1            tdum2            tdum3       \n",
              " 1      :   7   1:595   Min.   :0.0000   Min.   :0.0000   Min.   :0.0000  \n",
              " 2      :   7   2:595   1st Qu.:0.0000   1st Qu.:0.0000   1st Qu.:0.0000  \n",
              " 3      :   7   3:595   Median :0.0000   Median :0.0000   Median :0.0000  \n",
              " 4      :   7   4:595   Mean   :0.1429   Mean   :0.1429   Mean   :0.1429  \n",
              " 5      :   7   5:595   3rd Qu.:0.0000   3rd Qu.:0.0000   3rd Qu.:0.0000  \n",
              " 6      :   7   6:595   Max.   :1.0000   Max.   :1.0000   Max.   :1.0000  \n",
              " (Other):4123   7:595                                                     \n",
              "     tdum4            tdum5            tdum6            tdum7       \n",
              " Min.   :0.0000   Min.   :0.0000   Min.   :0.0000   Min.   :0.0000  \n",
              " 1st Qu.:0.0000   1st Qu.:0.0000   1st Qu.:0.0000   1st Qu.:0.0000  \n",
              " Median :0.0000   Median :0.0000   Median :0.0000   Median :0.0000  \n",
              " Mean   :0.1429   Mean   :0.1429   Mean   :0.1429   Mean   :0.1429  \n",
              " 3rd Qu.:0.0000   3rd Qu.:0.0000   3rd Qu.:0.0000   3rd Qu.:0.0000  \n",
              " Max.   :1.0000   Max.   :1.0000   Max.   :1.0000   Max.   :1.0000  \n",
              "                                                                    \n",
              "      exp2       \n",
              " Min.   :   1.0  \n",
              " 1st Qu.: 121.0  \n",
              " Median : 324.0  \n",
              " Mean   : 514.4  \n",
              " 3rd Qu.: 841.0  \n",
              " Max.   :2601.0  \n",
              "                 "
            ]
          },
          "metadata": {}
        }
      ]
    },
    {
      "cell_type": "markdown",
      "metadata": {
        "id": "Lgq9yfoxt229"
      },
      "source": [
        "Now that the wage data is in the appropraite format, we can use a variety of different models to evaluate how the data contained wthin changes over time and between indivudals, with each model providing different estimators, providing insight into different trends in the data.\n",
        "\n",
        "Typically, you aren't necesarily interested in all of these, but we'll go through each and describe the type of insight the estimator provides. Providing a general aim, we want to know what predicts change in wage over time, both between and within individuals.\n",
        "\n",
        "First up is the pooled ordinary least squares. The pooled model specifies constant coefficients, the usual assumptions for cross-sectional\n",
        "analysis.This is the most restrictive panel data model and is not used much in the literature. Essentially it looks for an 'overall effect' but it unable to provide specific insight into effects existing between and within observations.\n",
        "\n",
        "Looking at the pooled estimator results, we can see that experience, weeks worked, and education were all significant positie predictors of wages. Taking experience as an example, we see that an additional year of experience predicted 4.5 units of wage increase."
      ]
    },
    {
      "cell_type": "code",
      "metadata": {
        "colab": {
          "base_uri": "https://localhost:8080/",
          "height": 468
        },
        "id": "rqPMuMO7LAcX",
        "outputId": "19d57675-bfb9-4921-aaa7-70fe699b774e"
      },
      "source": [
        "# Pooled OLS estimator\n",
        "pooling <- plm(y ~ x, data=pwage, model= \"pooling\")\n",
        "summary(pooling)"
      ],
      "execution_count": 6,
      "outputs": [
        {
          "output_type": "display_data",
          "data": {
            "text/plain": [
              "Pooling Model\n",
              "\n",
              "Call:\n",
              "plm(formula = y ~ x, data = pwage, model = \"pooling\")\n",
              "\n",
              "Balanced Panel: n = 595, T = 7, N = 4165\n",
              "\n",
              "Residuals:\n",
              "       Min.     1st Qu.      Median     3rd Qu.        Max. \n",
              "-2.16057670 -0.25034526  0.00027256  0.26792139  2.12969386 \n",
              "\n",
              "Coefficients:\n",
              "               Estimate  Std. Error  t-value  Pr(>|t|)    \n",
              "(Intercept)  4.9080e+00  6.7330e-02  72.8945 < 2.2e-16 ***\n",
              "xexp         4.4675e-02  2.3929e-03  18.6701 < 2.2e-16 ***\n",
              "xexp2       -7.1563e-04  5.2794e-05 -13.5552 < 2.2e-16 ***\n",
              "xwks         5.8270e-03  1.1826e-03   4.9271 8.673e-07 ***\n",
              "xed          7.6041e-02  2.2266e-03  34.1511 < 2.2e-16 ***\n",
              "---\n",
              "Signif. codes:  0 ‘***’ 0.001 ‘**’ 0.01 ‘*’ 0.05 ‘.’ 0.1 ‘ ’ 1\n",
              "\n",
              "Total Sum of Squares:    886.9\n",
              "Residual Sum of Squares: 635.41\n",
              "R-Squared:      0.28356\n",
              "Adj. R-Squared: 0.28287\n",
              "F-statistic: 411.624 on 4 and 4160 DF, p-value: < 2.22e-16"
            ]
          },
          "metadata": {}
        }
      ]
    },
    {
      "cell_type": "markdown",
      "metadata": {
        "id": "xI2dmBEMAf1u"
      },
      "source": [
        "Looking at the between variation, using the between estimator. From the coefficients, we can see that if you have one more year of experience compared to the average experience across individuals, you will havbe .04 higher wage"
      ]
    },
    {
      "cell_type": "code",
      "metadata": {
        "colab": {
          "base_uri": "https://localhost:8080/",
          "height": 476
        },
        "id": "Oqxfpw9GLZTf",
        "outputId": "88c27ee0-648e-4a22-802c-62bba6bd1fe9"
      },
      "source": [
        "# Between estimator\n",
        "between <- plm(y ~ x, data=pwage, model= \"between\")\n",
        "summary(between)"
      ],
      "execution_count": null,
      "outputs": [
        {
          "output_type": "display_data",
          "data": {
            "text/plain": [
              "Oneway (individual) effect Between Model\n",
              "\n",
              "Call:\n",
              "plm(formula = y ~ x, data = pwage, model = \"between\")\n",
              "\n",
              "Balanced Panel: n = 595, T = 7, N = 4165\n",
              "Observations used in estimation: 595\n",
              "\n",
              "Residuals:\n",
              "     Min.   1st Qu.    Median   3rd Qu.      Max. \n",
              "-0.978153 -0.220264  0.036574  0.250118  0.985629 \n",
              "\n",
              "Coefficients:\n",
              "               Estimate  Std. Error t-value  Pr(>|t|)    \n",
              "(Intercept)  4.68303917  0.21009890 22.2897 < 2.2e-16 ***\n",
              "xexp         0.03815295  0.00569666  6.6974 4.953e-11 ***\n",
              "xexp2       -0.00063127  0.00012568 -5.0228 6.757e-07 ***\n",
              "xwks         0.01309028  0.00406592  3.2195  0.001355 ** \n",
              "xed          0.07378378  0.00489848 15.0626 < 2.2e-16 ***\n",
              "---\n",
              "Signif. codes:  0 ‘***’ 0.001 ‘**’ 0.01 ‘*’ 0.05 ‘.’ 0.1 ‘ ’ 1\n",
              "\n",
              "Total Sum of Squares:    92.322\n",
              "Residual Sum of Squares: 62.187\n",
              "R-Squared:      0.32641\n",
              "Adj. R-Squared: 0.32185\n",
              "F-statistic: 71.4768 on 4 and 590 DF, p-value: < 2.22e-16"
            ]
          },
          "metadata": {}
        }
      ]
    },
    {
      "cell_type": "markdown",
      "metadata": {
        "id": "2BqIVTr6A52Z"
      },
      "source": [
        ""
      ]
    },
    {
      "cell_type": "markdown",
      "metadata": {
        "id": "iKhOv6a7BDq9"
      },
      "source": [
        "Looking at the within variation, using the fixed effects/within estimator, we can see that if an individual has one more year of experience compared to their own average, their wages will be higher by 1.14 units.\n",
        "\n",
        "Note that the education varible is not listed as it is time-invariant."
      ]
    },
    {
      "cell_type": "code",
      "metadata": {
        "colab": {
          "base_uri": "https://localhost:8080/",
          "height": 425
        },
        "id": "X6Ym0Mn6Lj27",
        "outputId": "4092b0ce-0924-4753-a5c5-9bb35f829fa4"
      },
      "source": [
        "# Fixed effects/within estimator\n",
        "fixed <- plm(y ~ x, data=pwage, model= \"within\")\n",
        "summary(fixed)"
      ],
      "execution_count": null,
      "outputs": [
        {
          "output_type": "display_data",
          "data": {
            "text/plain": [
              "Oneway (individual) effect Within Model\n",
              "\n",
              "Call:\n",
              "plm(formula = y ~ x, data = pwage, model = \"within\")\n",
              "\n",
              "Balanced Panel: n = 595, T = 7, N = 4165\n",
              "\n",
              "Residuals:\n",
              "      Min.    1st Qu.     Median    3rd Qu.       Max. \n",
              "-1.8120879 -0.0511128  0.0037112  0.0614250  1.9434065 \n",
              "\n",
              "Coefficients:\n",
              "         Estimate  Std. Error t-value  Pr(>|t|)    \n",
              "xexp   1.1379e-01  2.4689e-03 46.0888 < 2.2e-16 ***\n",
              "xexp2 -4.2437e-04  5.4632e-05 -7.7678 1.036e-14 ***\n",
              "xwks   8.3588e-04  5.9967e-04  1.3939    0.1634    \n",
              "---\n",
              "Signif. codes:  0 ‘***’ 0.001 ‘**’ 0.01 ‘*’ 0.05 ‘.’ 0.1 ‘ ’ 1\n",
              "\n",
              "Total Sum of Squares:    240.65\n",
              "Residual Sum of Squares: 82.632\n",
              "R-Squared:      0.65663\n",
              "Adj. R-Squared: 0.59916\n",
              "F-statistic: 2273.74 on 3 and 3567 DF, p-value: < 2.22e-16"
            ]
          },
          "metadata": {}
        }
      ]
    },
    {
      "cell_type": "code",
      "metadata": {
        "id": "Q-2SjhpOE_mc"
      },
      "source": [
        "For the first differences estimaor, we can see that gaining an additional year of experience (squared) will increase wages by  .0005 units. \n",
        "\n",
        "Note some of the varibles are dropped by the model as they are time-invariant or increase deterministically."
      ],
      "execution_count": null,
      "outputs": []
    },
    {
      "cell_type": "code",
      "metadata": {
        "colab": {
          "base_uri": "https://localhost:8080/",
          "height": 451
        },
        "id": "7lcrOC2ALgWV",
        "outputId": "bbac133f-b2ee-4328-9a50-5f338d0cdd4b"
      },
      "source": [
        "# First differences estimator\n",
        "firstdiff <- plm(y ~ x, data=pwage, model= \"fd\")\n",
        "summary(firstdiff)"
      ],
      "execution_count": 11,
      "outputs": [
        {
          "output_type": "display_data",
          "data": {
            "text/plain": [
              "Oneway (individual) effect First-Difference Model\n",
              "\n",
              "Call:\n",
              "plm(formula = y ~ x, data = pwage, model = \"fd\")\n",
              "\n",
              "Balanced Panel: n = 595, T = 7, N = 4165\n",
              "Observations used in estimation: 3570\n",
              "\n",
              "Residuals:\n",
              "      Min.    1st Qu.     Median    3rd Qu.       Max. \n",
              "-2.1131555 -0.0654718 -0.0095751  0.0483881  2.3295637 \n",
              "\n",
              "Coefficients:\n",
              "               Estimate  Std. Error t-value  Pr(>|t|)    \n",
              "(Intercept)  0.11706540  0.00631057 18.5507 < 2.2e-16 ***\n",
              "xexp2       -0.00053212  0.00013927 -3.8207 0.0001354 ***\n",
              "xwks        -0.00026826  0.00056483 -0.4749 0.6348525    \n",
              "---\n",
              "Signif. codes:  0 ‘***’ 0.001 ‘**’ 0.01 ‘*’ 0.05 ‘.’ 0.1 ‘ ’ 1\n",
              "\n",
              "Total Sum of Squares:    118.06\n",
              "Residual Sum of Squares: 117.58\n",
              "R-Squared:      0.004108\n",
              "Adj. R-Squared: 0.0035496\n",
              "F-statistic: 7.35691 on 2 and 3567 DF, p-value: 0.0006479"
            ]
          },
          "metadata": {}
        }
      ]
    },
    {
      "cell_type": "markdown",
      "metadata": {
        "id": "WPMS9MfWHPcY"
      },
      "source": [
        "For the random effects estimaor, we can see that gaining an additional year of experience (squared) will increase wages by  .0005 units. It can be interpretted in the same was as the within/fixed effects estimator, with the additional summary if 'theta' i.e. what percent of the variation comes from the individual, which we can see here is 82%"
      ]
    },
    {
      "cell_type": "code",
      "metadata": {
        "colab": {
          "base_uri": "https://localhost:8080/",
          "height": 590
        },
        "id": "gFFjBPuJLoPu",
        "outputId": "d3167a56-152b-4afa-beee-bc58f996daf7"
      },
      "source": [
        "# Random effects estimator\n",
        "random <- plm(y ~ x, data=pwage, model= \"random\")\n",
        "summary(random)"
      ],
      "execution_count": 12,
      "outputs": [
        {
          "output_type": "display_data",
          "data": {
            "text/plain": [
              "Oneway (individual) effect Random Effect Model \n",
              "   (Swamy-Arora's transformation)\n",
              "\n",
              "Call:\n",
              "plm(formula = y ~ x, data = pwage, model = \"random\")\n",
              "\n",
              "Balanced Panel: n = 595, T = 7, N = 4165\n",
              "\n",
              "Effects:\n",
              "                  var std.dev share\n",
              "idiosyncratic 0.02317 0.15220 0.185\n",
              "individual    0.10209 0.31952 0.815\n",
              "theta: 0.8228\n",
              "\n",
              "Residuals:\n",
              "      Min.    1st Qu.     Median    3rd Qu.       Max. \n",
              "-2.0439676 -0.1057048  0.0070992  0.1147499  2.0875839 \n",
              "\n",
              "Coefficients:\n",
              "               Estimate  Std. Error  z-value Pr(>|z|)    \n",
              "(Intercept)  3.8294e+00  9.3634e-02  40.8974   <2e-16 ***\n",
              "xexp         8.8861e-02  2.8178e-03  31.5360   <2e-16 ***\n",
              "xexp2       -7.7257e-04  6.2262e-05 -12.4083   <2e-16 ***\n",
              "xwks         9.6577e-04  7.4329e-04   1.2993   0.1938    \n",
              "xed          1.1171e-01  6.0572e-03  18.4426   <2e-16 ***\n",
              "---\n",
              "Signif. codes:  0 ‘***’ 0.001 ‘**’ 0.01 ‘*’ 0.05 ‘.’ 0.1 ‘ ’ 1\n",
              "\n",
              "Total Sum of Squares:    260.94\n",
              "Residual Sum of Squares: 151.35\n",
              "R-Squared:      0.42\n",
              "Adj. R-Squared: 0.41945\n",
              "Chisq: 3012.45 on 4 DF, p-value: < 2.22e-16"
            ]
          },
          "metadata": {}
        }
      ]
    },
    {
      "cell_type": "code",
      "metadata": {
        "id": "mZP1gESkMHl9",
        "colab": {
          "base_uri": "https://localhost:8080/",
          "height": 95
        },
        "outputId": "a952e3ec-c961-4811-80d0-8c7c8bd96921"
      },
      "source": [
        "# LM test for random effects versus OLS\n",
        "plmtest(pooling)"
      ],
      "execution_count": null,
      "outputs": [
        {
          "output_type": "error",
          "ename": "ERROR",
          "evalue": "ignored",
          "traceback": [
            "Error in plmtest(pooling): could not find function \"plmtest\"\nTraceback:\n"
          ]
        }
      ]
    },
    {
      "cell_type": "code",
      "metadata": {
        "id": "8EdtYdv6MP9A"
      },
      "source": [
        "# LM test for fixed effects versus OLS\n",
        "pFtest(fixed, pooling)"
      ],
      "execution_count": null,
      "outputs": []
    },
    {
      "cell_type": "code",
      "metadata": {
        "colab": {
          "base_uri": "https://localhost:8080/",
          "height": 119
        },
        "id": "89zUrKjFMR-L",
        "outputId": "f6da6c63-0776-4c62-fa71-1faf32d6b62b"
      },
      "source": [
        "# Hausman test for fixed versus random effects model\n",
        "phtest(random, fixed)"
      ],
      "execution_count": null,
      "outputs": [
        {
          "output_type": "display_data",
          "data": {
            "text/plain": [
              "\n",
              "\tHausman Test\n",
              "\n",
              "data:  y ~ x\n",
              "chisq = 6191.4, df = 3, p-value < 2.2e-16\n",
              "alternative hypothesis: one model is inconsistent\n"
            ]
          },
          "metadata": {}
        }
      ]
    }
  ]
}