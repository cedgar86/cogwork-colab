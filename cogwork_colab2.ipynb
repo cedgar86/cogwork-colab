{
  "nbformat": 4,
  "nbformat_minor": 0,
  "metadata": {
    "colab": {
      "name": "cogwork_colab2.ipynb",
      "provenance": [],
      "authorship_tag": "ABX9TyNAkZv9Y6OBv7NYzExlplf9",
      "include_colab_link": true
    },
    "kernelspec": {
      "name": "python3",
      "display_name": "Python 3"
    },
    "language_info": {
      "name": "python"
    }
  },
  "cells": [
    {
      "cell_type": "markdown",
      "metadata": {
        "id": "view-in-github",
        "colab_type": "text"
      },
      "source": [
        "<a href=\"https://colab.research.google.com/github/cedgar86/cogwork-colab/blob/main/cogwork_colab2.ipynb\" target=\"_parent\"><img src=\"https://colab.research.google.com/assets/colab-badge.svg\" alt=\"Open In Colab\"/></a>"
      ]
    },
    {
      "cell_type": "markdown",
      "metadata": {
        "id": "5MXlgtqyztmf"
      },
      "source": [
        "**Basic operations**\n",
        "\n",
        "\n",
        "\n",
        "---\n",
        "\n"
      ]
    },
    {
      "cell_type": "markdown",
      "metadata": {
        "id": "hrolydK70frg"
      },
      "source": [
        "My job involves running a lot of quantaitive experiments, consisting of repetitive trials that produce lots of separate but structurally identical data in separate files. \n",
        "\n",
        "For this reason, I need to know how to load data into programming environments so it can be processed and analysed, and do so efficiently when there are lots of files to read in and collate at once.\n",
        "\n",
        "I am now going to explore several ways of doing this using data stored in Google drive."
      ]
    },
    {
      "cell_type": "markdown",
      "metadata": {
        "id": "sqfShBQe1S07"
      },
      "source": [
        "As we are in Google Colab, I want to try and work with Google drive. There may be times when we want to pull data directly from a web address, but often we will want to work with data stored locally, or at least stored in cloud-synched folders.\n",
        "\n",
        "First up, we need to access my Google Drive, read data, and authenticate the user (me)."
      ]
    },
    {
      "cell_type": "code",
      "metadata": {
        "colab": {
          "base_uri": "https://localhost:8080/"
        },
        "id": "tIbLjkBqbn2P",
        "outputId": "0d45577b-4ab6-4da0-ca2b-1438e00c0dde"
      },
      "source": [
        "from google.colab import drive \n",
        "drive.mount('/content/drive')"
      ],
      "execution_count": 12,
      "outputs": [
        {
          "output_type": "stream",
          "text": [
            "Drive already mounted at /content/drive; to attempt to forcibly remount, call drive.mount(\"/content/drive\", force_remount=True).\n"
          ],
          "name": "stdout"
        }
      ]
    },
    {
      "cell_type": "markdown",
      "metadata": {
        "id": "cOUicO9JQAZn"
      },
      "source": [
        "I can now view files in my Google Drive by selecting 'Files' from the menu on the left hand side of the Colab environment.\n",
        "\n",
        "Next, we want to change the working directory to a folder in my Google Drive ('colab2'), where I have saved files that I want to use for this project."
      ]
    },
    {
      "cell_type": "code",
      "metadata": {
        "colab": {
          "base_uri": "https://localhost:8080/"
        },
        "id": "zF48ht98xBoQ",
        "outputId": "adc7b993-175d-4249-a106-c585f3d66ca5"
      },
      "source": [
        "%cd \"/content/drive/MyDrive/ColabNotebooks/colab2\""
      ],
      "execution_count": 13,
      "outputs": [
        {
          "output_type": "stream",
          "text": [
            "/content/drive/MyDrive/ColabNotebooks/colab2\n"
          ],
          "name": "stdout"
        }
      ]
    },
    {
      "cell_type": "markdown",
      "metadata": {
        "id": "yojvS9rpoLw-"
      },
      "source": [
        "Next, we upload two csv files I want ot work with to my Google drive: cogwork2a and cogwork2b."
      ]
    },
    {
      "cell_type": "code",
      "metadata": {
        "colab": {
          "resources": {
            "http://localhost:8080/nbextensions/google.colab/files.js": {
              "data": "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",
              "ok": true,
              "headers": [
                [
                  "content-type",
                  "application/javascript"
                ]
              ],
              "status": 200,
              "status_text": ""
            }
          },
          "base_uri": "https://localhost:8080/",
          "height": 106
        },
        "id": "cis4tyzFkLQR",
        "outputId": "5710a9d7-e138-430b-85d0-e73291531fc6"
      },
      "source": [
        "from google.colab import files\n",
        "uploaded = files.upload()"
      ],
      "execution_count": 14,
      "outputs": [
        {
          "output_type": "display_data",
          "data": {
            "text/html": [
              "\n",
              "     <input type=\"file\" id=\"files-dfef8b2f-ac1e-4c75-a9f8-bbba3982f5e6\" name=\"files[]\" multiple disabled\n",
              "        style=\"border:none\" />\n",
              "     <output id=\"result-dfef8b2f-ac1e-4c75-a9f8-bbba3982f5e6\">\n",
              "      Upload widget is only available when the cell has been executed in the\n",
              "      current browser session. Please rerun this cell to enable.\n",
              "      </output>\n",
              "      <script src=\"/nbextensions/google.colab/files.js\"></script> "
            ],
            "text/plain": [
              "<IPython.core.display.HTML object>"
            ]
          },
          "metadata": {
            "tags": []
          }
        },
        {
          "output_type": "stream",
          "text": [
            "Saving cogwork2a.csv to cogwork2a (1).csv\n",
            "Saving cogwork2b.csv to cogwork2b (1).csv\n"
          ],
          "name": "stdout"
        }
      ]
    },
    {
      "cell_type": "markdown",
      "metadata": {
        "id": "lP0RSYhwTpsl"
      },
      "source": [
        "Then, we assign each of the files to a dataframes, and print them to quickly inspect their contents. \n",
        "\n",
        "Again, we could use a more straightforward version of the read.csv funciton, but this method allows us to wokr with files we have just uploaded using the files.upload() function."
      ]
    },
    {
      "cell_type": "code",
      "metadata": {
        "colab": {
          "base_uri": "https://localhost:8080/"
        },
        "id": "cihs_0wLlSzC",
        "outputId": "d734a2dc-e0c5-4a67-beed-79a163ec3c6c"
      },
      "source": [
        "colours_df = pd.read_csv('cogwork2a.csv')\n",
        "numbers_df = pd.read_csv('cogwork2b.csv')\n",
        "\n",
        "print(colours_df)\n",
        "print(numbers_df)"
      ],
      "execution_count": 19,
      "outputs": [
        {
          "output_type": "stream",
          "text": [
            "     random_number  colour\n",
            "0                9     red\n",
            "1                6   green\n",
            "2               17    blue\n",
            "3                2  orange\n",
            "4               20  yellow\n",
            "..             ...     ...\n",
            "97              12   green\n",
            "98               6    blue\n",
            "99              20  orange\n",
            "100              3  yellow\n",
            "101             19  purple\n",
            "\n",
            "[102 rows x 2 columns]\n",
            "   selection_number\n",
            "0                 1\n",
            "1                 2\n",
            "2                 3\n",
            "3                 4\n",
            "4                 5\n"
          ],
          "name": "stdout"
        }
      ]
    },
    {
      "cell_type": "markdown",
      "metadata": {
        "id": "zL0QKN8ZTqka"
      },
      "source": [
        "What have we got?\n",
        "\n",
        "colours_df is a dataframe consisting of two columns: one of random numbers between 1-20, the other one of six colours: red, green, blue, orange, yellow, purple.\n",
        "\n",
        "numbers_df is a dataframe consisting of 1 column: 'selection_numbers', with five rows containing the numbers 1-5.\n",
        "\n",
        "I would like to create a new dataframe that contrains only the rows of colours df, in which the random_number matches 1 of the 5 selection numbers in numbers_df's selection_number column.\n",
        "\n",
        "First we assign the numbers contained within the selection_number column to a list called selection_numbers."
      ]
    },
    {
      "cell_type": "code",
      "metadata": {
        "id": "g2w4D70Vo5se"
      },
      "source": [
        "import pandas as pd\n",
        "\n",
        "selection_numbers = list(numbers_df[\"selection_number\"])"
      ],
      "execution_count": 20,
      "outputs": []
    },
    {
      "cell_type": "markdown",
      "metadata": {
        "id": "1lAyBEueU1zr"
      },
      "source": [
        "We can then use this list with the .isin function to create a subset of the colours_df using the code below, easy."
      ]
    },
    {
      "cell_type": "code",
      "metadata": {
        "colab": {
          "base_uri": "https://localhost:8080/"
        },
        "id": "OVuajCfSq9Tl",
        "outputId": "906a92d1-368f-4066-b000-2392f0ddbcab"
      },
      "source": [
        "colours_subset = colours_df[colours_df['random_number'].isin(selection_numbers)]\n",
        "\n",
        "print(colours_subset)"
      ],
      "execution_count": 21,
      "outputs": [
        {
          "output_type": "stream",
          "text": [
            "     random_number  colour\n",
            "3                2  orange\n",
            "11               2  purple\n",
            "15               4  orange\n",
            "19               3   green\n",
            "20               2    blue\n",
            "23               3  purple\n",
            "24               5     red\n",
            "28               2  yellow\n",
            "29               3  purple\n",
            "30               1     red\n",
            "48               1     red\n",
            "50               3    blue\n",
            "53               3  purple\n",
            "58               1  yellow\n",
            "64               3  yellow\n",
            "65               1  purple\n",
            "66               4     red\n",
            "77               2  purple\n",
            "80               2    blue\n",
            "84               5     red\n",
            "90               5     red\n",
            "100              3  yellow\n"
          ],
          "name": "stdout"
        }
      ]
    },
    {
      "cell_type": "markdown",
      "metadata": {
        "id": "1L_xb-AHVWkE"
      },
      "source": [
        "Next up, we use a countplot from the seaborn package to plot the frequency of each colour in the dataframe."
      ]
    },
    {
      "cell_type": "code",
      "metadata": {
        "colab": {
          "base_uri": "https://localhost:8080/",
          "height": 285
        },
        "id": "AEO6Z86esI0d",
        "outputId": "4ef4ea55-89e6-4f80-8dad-21c702a0eaea"
      },
      "source": [
        "import seaborn as sns\n",
        "sns.set_theme(style=\"darkgrid\")\n",
        "\n",
        "colour_count = sns.countplot(x=\"colour\", data=colours_subset, palette=['#FFA500', '#800080', '#008000', '#0000FF', '#FF0000', '#FFFF00'])"
      ],
      "execution_count": 33,
      "outputs": [
        {
          "output_type": "display_data",
          "data": {
            "image/png": "[encoded data removed]",
            "text/plain": [
              "<Figure size 432x288 with 1 Axes>"
            ]
          },
          "metadata": {
            "tags": []
          }
        }
      ]
    },
    {
      "cell_type": "markdown",
      "metadata": {
        "id": "2bDpqRB-ygYb"
      },
      "source": [
        "Now for something slightly different, processing and collating data across many different files. \n",
        "\n",
        "Simulated data files for 10 participants (part1.csv-part10.csv) have been dropped into the colab2 directory. Each files contains a trial column (for trial number) and a response column (the participants response for that trials).\n",
        "\n",
        "Trial numbers are identical across participants, so we will use the glob function (from the glob package), in combination with a for loop, to loop through each file in the working directory (that contains the string 'part'), extract the responses column, and concactenate it on to a dataframe in which contains each participant's response data. The columns will be labelled with each participant's identifying code."
      ]
    },
    {
      "cell_type": "code",
      "metadata": {
        "colab": {
          "base_uri": "https://localhost:8080/"
        },
        "id": "dV0lys8Xyghs",
        "outputId": "e9ed981e-f55c-47b9-befa-a20117d9a77c"
      },
      "source": [
        "import glob\n",
        "\n",
        "fnames = glob.glob(\"*part*\")\n",
        "col_names = [s.replace(\".csv\", \"\") for s in fnames]\n",
        "\n",
        "responses_df = pd.DataFrame()\n",
        "\n",
        "for f in fnames:\n",
        "  part_df = pd.read_csv(f)\n",
        "\n",
        "  responses_df = pd.concat([responses_df, part_df[\"response\"]], axis=1)\n",
        "\n",
        "responses_df.columns = col_names\n",
        "\n",
        "part1_df = part_df = pd.read_csv('part1.csv')\n",
        "\n",
        "# Following code creates a new trial column.\n",
        "trials = range(1,51)\n",
        "responses_df.insert(0,'trial', trials)\n",
        "\n",
        "print(responses_df)"
      ],
      "execution_count": 47,
      "outputs": [
        {
          "output_type": "stream",
          "text": [
            "    trial  part1  part2  part3  part4  ...  part6  part7  part8  part9  part10\n",
            "0       1     13     26     21     30  ...     22      1     16     30       9\n",
            "1       2      6     26      2     26  ...     11      5      5      7       2\n",
            "2       3     19     13      5      6  ...     19     10      5     30      13\n",
            "3       4      7     20     23      3  ...     24      9     19      2      16\n",
            "4       5     15      6     21      2  ...      5     25      9     18      29\n",
            "5       6     20     10     23     10  ...     21     22     13     20      23\n",
            "6       7     15     28     19     27  ...     13     21     29     21       6\n",
            "7       8      6     10      7      7  ...     22     21      9     29      27\n",
            "8       9      1      4     10      3  ...      2     14     17     18      18\n",
            "9      10     12     27     12     28  ...     27      6     19     30      23\n",
            "10     11      1      1     28      6  ...      1     16     29     17      24\n",
            "11     12      4      4     28     29  ...     12     28      6     28      20\n",
            "12     13     30      1     14     18  ...     30     13     10     12       1\n",
            "13     14      2     20     26     17  ...     24      8     10     24      15\n",
            "14     15     27     15     23     12  ...     25      6     23     13      17\n",
            "15     16      7     30     10     22  ...     25      5     18     11      22\n",
            "16     17     29     20     30     15  ...     12      1     10     21      24\n",
            "17     18     27      7     10      7  ...     29     14     22      8      18\n",
            "18     19     16     18     13      5  ...      8     22     23     24      24\n",
            "19     20     28     26     12     10  ...     20     25     18      4       6\n",
            "20     21     22      7     18     11  ...     30      7     19     10       6\n",
            "21     22     29     30      9     21  ...     13     24      9     23      24\n",
            "22     23     11     16      8     24  ...     25      4      3     15      14\n",
            "23     24     26      9     12      8  ...     18     25      1     11      10\n",
            "24     25      2     29      9     11  ...     13     11      3     23      27\n",
            "25     26      4     30     13     30  ...     16      5     18      3      10\n",
            "26     27     23     20      3     18  ...     28     20      4      2      10\n",
            "27     28     18     28      6     26  ...     19     18     18     16       2\n",
            "28     29     26     19     29     20  ...     27     22     23     16       9\n",
            "29     30     29      5     26      1  ...     19     13     16      3      17\n",
            "30     31     28     19     15     25  ...     22     11     15      2      11\n",
            "31     32     19     15      7     23  ...     14      1     20      7       7\n",
            "32     33      3     18     22      9  ...     11     12     17     13      15\n",
            "33     34     16      6      9     23  ...      9     13     23     29       8\n",
            "34     35     24      3     19     14  ...     13     16      3     30      12\n",
            "35     36     10     17     23     27  ...     13     14     23      5      20\n",
            "36     37     11     10      1     24  ...     10     10     26      4      11\n",
            "37     38     30     23      1     24  ...      5      8      1     15      23\n",
            "38     39     16     11     18     20  ...     14     12     23      9      22\n",
            "39     40     16      4      4      7  ...     11     24     14     28       9\n",
            "40     41     13      1      3     23  ...     17     17     30      8      21\n",
            "41     42     30     18      1      9  ...      3      9      8     10      14\n",
            "42     43     10     12     26      5  ...     10     19     28      3       2\n",
            "43     44     18      3     11     25  ...     12     15     27     23      11\n",
            "44     45      4      4     18     24  ...     23     15      7     20      19\n",
            "45     46     15     14     12     10  ...      1     14      6     14       5\n",
            "46     47     17     24      8     15  ...      2     23     13     24      28\n",
            "47     48     17      1     18     24  ...     12     20     27     29      17\n",
            "48     49      2      8     15     19  ...     18     13     30      8      21\n",
            "49     50     11      8      4      4  ...     12      1      3      7      21\n",
            "\n",
            "[50 rows x 11 columns]\n"
          ],
          "name": "stdout"
        }
      ]
    },
    {
      "cell_type": "markdown",
      "metadata": {
        "id": "N6jdXQaOgC1s"
      },
      "source": [
        "Finally, we save responses_df to the colab2 folder."
      ]
    },
    {
      "cell_type": "code",
      "metadata": {
        "id": "ajaeU_RE8_85"
      },
      "source": [
        "responses_df.to_csv(\"responses_combined.csv\")"
      ],
      "execution_count": null,
      "outputs": []
    }
  ]
}